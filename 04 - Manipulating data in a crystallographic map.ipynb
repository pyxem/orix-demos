{
 "cells": [
  {
   "cell_type": "markdown",
   "metadata": {},
   "source": [
    "# Introduction\n",
    "\n",
    "In this tutorial we demonstrate the use of the `CrystalMap` class to store and\n",
    "manipulate orientations, crystal phases and other properties associated with\n",
    "every spatial coordinate in a 1D or 2D space.\n",
    "\n",
    "The `CrystalMap` class is inspired by MTEX' `EBSD` class. It is developed to\n",
    "interface more easily with the scientific Python stack.\n",
    "\n",
    "Orientations and other properties acquired from a super-duplex stainless steel\n",
    "EBSD data set with two phases, austenite and ferrite, are used as example data.\n",
    "The data is available here: http://folk.ntnu.no/hakonwii/files/orix-demos/,\n",
    "courtesy of Prof. Jarle Hjelen (Norwegian University of Science and Technology,\n",
    "Norway).\n",
    "\n",
    "This functionaility has been checked to run in orix-0.5.0 (October 2020). Bugs\n",
    "are always possible, do not trust the code blindly, and if you experience any\n",
    "issues please report them here: https://github.com/pyxem/orix-demos/issues.\n",
    "\n",
    "# Contents\n",
    "\n",
    "1. <a href='#obtain-crystalmap'>Load/create and save a CrystalMap</a>\n",
    "2. <a href='#manipulate-phases'>Create and manipulate phases</a>\n",
    "3. <a href='#inspect-data'>Inspect orientation data</a>\n",
    "4. <a href='#inspect-properties'>Inspect, add and delete map properties</a>\n",
    "5. <a href='#select-data'>Select and manipulate data based upon criteria</a>\n",
    "6. <a href='#plot-maps'>Plot maps</a>\n",
    "\n",
    "Import orix classes and various dependencies"
   ]
  },
  {
   "cell_type": "code",
   "execution_count": null,
   "metadata": {},
   "outputs": [],
   "source": [
    "#%matplotlib qt5  # Uncomment for interactive plotting with the pyqt package\n",
    "\n",
    "from diffpy.structure import Atom, Lattice, Structure\n",
    "import matplotlib.pyplot as plt\n",
    "import numpy as np\n",
    "\n",
    "from orix import plot\n",
    "from orix.io import load, save\n",
    "from orix.crystal_map import CrystalMap, PhaseList, Phase\n",
    "from orix.quaternion.orientation import Orientation\n",
    "from orix.quaternion.rotation import Rotation\n",
    "from orix.quaternion.symmetry import get_point_group"
   ]
  },
  {
   "cell_type": "markdown",
   "metadata": {},
   "source": [
    "# <a id='obtain-crystalmap'></a> 1. Load/create and save a CrystalMap\n",
    "\n",
    "A `CrystalMap` object can be obtained by reading an orientation data set stored\n",
    "in a format supported by `orix` using the `load` function, or by passing the\n",
    "necessary arrays to the `CrystalMap.__init__()` method. Two formats are\n",
    "supported, in addition to `orix`'s own HDF5 format: Data in the ang format\n",
    "produced by the softwares EDAX TSL OIM Data Collection v7, NanoMegas ASTAR\n",
    "Index, and EMsoft v4/v5 via the `EMdpmerge` program, and data in EMsoft v4/v5\n",
    "HDF5 files produced by the `EMEBSDDI` program.\n",
    "\n",
    "Two writers are supported, namely `orix`'s own HDF5 format, readable by `orix`\n",
    "only, and the .ang format, readable at least by MTEX and EDAX TSL OIM Analysis\n",
    "v7.\n",
    "\n",
    "Let's get a crystal map from an .ang file produced by EMsoft"
   ]
  },
  {
   "cell_type": "markdown",
   "metadata": {},
   "source": [
    "## 1.1 Load"
   ]
  },
  {
   "cell_type": "code",
   "execution_count": null,
   "metadata": {},
   "outputs": [],
   "source": [
    "datadir = 'data/'\n",
    "fname = 'sdss_ferrite_austenite.ang'\n",
    "\n",
    "xmap = load(datadir + fname)\n",
    "\n",
    "# Let's print a nice, informative representation of the data\n",
    "xmap"
   ]
  },
  {
   "cell_type": "markdown",
   "metadata": {},
   "source": [
    "Note that the name and point group symmetry of the phases present in the data\n",
    "were obtained from the .ang file header. The indexing properties returned by\n",
    "EMsoft in their .ang files are the pattern image quality (iq) (according to\n",
    "Niels Krieger Lassen's method), and the highest normalized dot product (dp)\n",
    "between the experimental and best matching simulated pattern."
   ]
  },
  {
   "cell_type": "markdown",
   "metadata": {},
   "source": [
    "For convenience, let's rename the phases..."
   ]
  },
  {
   "cell_type": "code",
   "execution_count": null,
   "metadata": {},
   "outputs": [],
   "source": [
    "xmap.phases[\"austenite/austenite\"].name = \"austenite\"\n",
    "xmap.phases[\"ferrite/ferrite\"].name = \"ferrite\""
   ]
  },
  {
   "cell_type": "markdown",
   "metadata": {},
   "source": [
    "## 1.2 Create\n",
    "\n",
    "The same `CrystalMap` object can be obtained by reading each array from the\n",
    ".ang file ourselves and passing this to `CrystalMap.__init__()`"
   ]
  },
  {
   "cell_type": "code",
   "execution_count": null,
   "metadata": {},
   "outputs": [],
   "source": [
    "# Read each column from the file\n",
    "euler1, euler2, euler3, x, y, iq, dp, phase_id = np.loadtxt(\n",
    "    datadir + fname, unpack=True)\n",
    "\n",
    "# Create a Rotation object from Euler angles\n",
    "euler_angles = np.column_stack((euler1, euler2, euler3))\n",
    "rotations = Rotation.from_euler(euler_angles)\n",
    "\n",
    "# Create a property dictionary\n",
    "properties = {\"iq\": iq, \"dp\": dp}\n",
    "\n",
    "# Create unit cells of the phases\n",
    "structures = [\n",
    "    Structure(\n",
    "        title=\"austenite\",\n",
    "        atoms=[Atom(\"fe\", [0] * 3)],\n",
    "        lattice=Lattice(0.360, 0.360, 0.360, 90, 90, 90)\n",
    "    ),\n",
    "    Structure(\n",
    "        title=\"ferrite\",\n",
    "        atoms=[Atom(\"fe\", [0] * 3)],\n",
    "        lattice=Lattice(0.287, 0.287, 0.287, 90, 90, 90)\n",
    "    ),\n",
    "]\n",
    "phase_list = PhaseList(\n",
    "    names=[\"austenite\", \"ferrite\"],\n",
    "    point_groups=[\"432\", \"432\"],\n",
    "    structures=structures,\n",
    ")\n",
    "\n",
    "# Create a CrystalMap object\n",
    "xmap2 = CrystalMap(\n",
    "    rotations=rotations,\n",
    "    phase_id=phase_id,\n",
    "    x=x,\n",
    "    y=y,\n",
    "    phase_list=phase_list,\n",
    "    prop=properties,\n",
    ")\n",
    "xmap2.scan_unit = \"um\"\n",
    "\n",
    "xmap2"
   ]
  },
  {
   "cell_type": "markdown",
   "metadata": {},
   "source": [
    "## 1.3 Save\n",
    "\n",
    "As mentioned, the two writers implemented are `orix`'s own HDF5 format and the\n",
    ".ang format:"
   ]
  },
  {
   "cell_type": "markdown",
   "metadata": {},
   "source": [
    "### 1.3.1 orix' HDF5 format"
   ]
  },
  {
   "cell_type": "code",
   "execution_count": null,
   "metadata": {},
   "outputs": [],
   "source": [
    "save(\n",
    "    filename=datadir + \"sdss_ferrite_austenite2.h5\",\n",
    "    object2write=xmap,\n",
    "    overwrite=True,  # Default is False\n",
    ")"
   ]
  },
  {
   "cell_type": "markdown",
   "metadata": {},
   "source": [
    "Read the file contents back into a `CrystalMap` object using `orix.io.load`\n",
    "function.\n",
    "\n",
    "All contents in this file can be inspected using any HDF5 viewer and read back\n",
    "into Python using the `h5py` library (which we use)."
   ]
  },
  {
   "cell_type": "markdown",
   "metadata": {},
   "source": [
    "### 1.3.2 .ang format"
   ]
  },
  {
   "cell_type": "markdown",
   "metadata": {},
   "source": [
    "The .ang writer supports many use cases. Some of these are demonstrated here,\n",
    "by re-loading the saved crystal maps.\n",
    "\n",
    "First, let's write the multi phase map to an .ang file, specifying that the\n",
    "`xmap.dp` property should be written to the confidence index (CI) column"
   ]
  },
  {
   "cell_type": "code",
   "execution_count": null,
   "metadata": {},
   "outputs": [],
   "source": [
    "fname_ang1 = \"sdss_dp_ci.ang\"\n",
    "save(\n",
    "    filename=datadir + fname_ang1,\n",
    "    object2write=xmap,\n",
    "    confidence_index_prop=\"dp\"\n",
    ")\n",
    "\n",
    "xmap_reload1 = load(datadir + fname_ang1)\n",
    "print(xmap_reload1)\n",
    "print(xmap_reload1.prop)"
   ]
  },
  {
   "cell_type": "markdown",
   "metadata": {},
   "source": [
    "Note that the `iq` and `dp` properties were written to the image quality and\n",
    "CI columns in the .ang file. The detector signal and pattern fit columns were\n",
    "filled with zeros. Any property can be written to these columns by passing\n",
    "property name strings to the `pattern_fit_prop` parameters etc."
   ]
  },
  {
   "cell_type": "markdown",
   "metadata": {},
   "source": [
    "We can also write masked maps to the file, while e.g. adding an extra column"
   ]
  },
  {
   "cell_type": "code",
   "execution_count": null,
   "metadata": {},
   "outputs": [],
   "source": [
    "fname_ang2 = \"sdss_ferrite_extra_prop.ang\"\n",
    "extra_prop = \"iq_times_dp\"\n",
    "xmap.prop[extra_prop] = xmap.iq * xmap.dp\n",
    "save(\n",
    "    filename=datadir + fname_ang2,\n",
    "    object2write=xmap[\"ferrite\"],\n",
    "    overwrite=True,\n",
    "    extra_prop=extra_prop\n",
    ")\n",
    "xmap_reload3 = load(datadir + fname_ang2)\n",
    "print(xmap_reload3)\n",
    "print(xmap_reload3.prop)"
   ]
  },
  {
   "cell_type": "markdown",
   "metadata": {},
   "source": [
    "Note that points not in data are set to `not_indexed` when reloaded from the\n",
    ".ang file, and that all properties in points not in the data set are set to\n",
    "zero, except for the CI column where this pproperty in points not in the data\n",
    "(the austenite points) are set to -1, which MTEX and EDAX TSL expects in these\n",
    "points."
   ]
  },
  {
   "cell_type": "markdown",
   "metadata": {},
   "source": [
    "Finally, it is worth mentioning that if a map has more than one rotation/match\n",
    "and phase ID per point, the `index` parameter can be passed to write any \"layer\"\n",
    "of data to file."
   ]
  },
  {
   "cell_type": "markdown",
   "metadata": {},
   "source": [
    "# <a id='manipulate-phases'></a> 2. Create and manipulate phases\n",
    "\n",
    "The phases are stored in a `PhaseList` object in the `CrystalMap.phases` attribute"
   ]
  },
  {
   "cell_type": "code",
   "execution_count": null,
   "metadata": {},
   "outputs": [],
   "source": [
    "xmap.phases"
   ]
  },
  {
   "cell_type": "markdown",
   "metadata": {},
   "source": [
    "## 2.1 Space groups"
   ]
  },
  {
   "cell_type": "markdown",
   "metadata": {},
   "source": [
    "The point group symmetry are stored in the vendor and EMsoft files, however they\n",
    "provide no space group symmetry. We can set this *per phase* by providing a\n",
    "space group number (1-230) according to the International Tables of\n",
    "Crystallography (useful link: http://img.chem.ucl.ac.uk/sgp/large/sgp.htm)"
   ]
  },
  {
   "cell_type": "code",
   "execution_count": null,
   "metadata": {},
   "outputs": [],
   "source": [
    "xmap.phases[1].space_group = 225\n",
    "xmap.phases[2].space_group = 229\n",
    "\n",
    "xmap.phases"
   ]
  },
  {
   "cell_type": "markdown",
   "metadata": {},
   "source": [
    "Note that this also changed the point group, because this is always determined\n",
    "from the space group. But the proper point group, without any inversion or\n",
    "mirror planes, stayed the same. The `space_group` attribute stores a\n",
    "`diffpy.structure.spacegroups.SpaceGroup` object (https://www.diffpy.org/diffpy.structure/mod_spacegroup.html#diffpy.structure.spacegroupmod.SpaceGroup).\n",
    "\n",
    "We can get the point group which a space group is the subgroup of"
   ]
  },
  {
   "cell_type": "code",
   "execution_count": null,
   "metadata": {
    "tags": []
   },
   "outputs": [],
   "source": [
    "print(get_point_group(200).name, get_point_group(230).name)"
   ]
  },
  {
   "cell_type": "markdown",
   "metadata": {},
   "source": [
    "The point group stores symmetry operations as quaternions. We can get them as\n",
    "orientation matrices"
   ]
  },
  {
   "cell_type": "code",
   "execution_count": null,
   "metadata": {},
   "outputs": [],
   "source": [
    "xmap.phases[1].point_group[:2]"
   ]
  },
  {
   "cell_type": "code",
   "execution_count": null,
   "metadata": {},
   "outputs": [],
   "source": [
    "xmap.phases[1].point_group[:2].to_matrix()"
   ]
  },
  {
   "cell_type": "markdown",
   "metadata": {},
   "source": [
    "`diffpy.structure` stores rotation symmetry operations as orientation matrices\n",
    "and translations as 1D arrays"
   ]
  },
  {
   "cell_type": "code",
   "execution_count": null,
   "metadata": {},
   "outputs": [],
   "source": [
    "[(i.R, i.t) for i in xmap.phases[1].space_group.symop_list[:2]]"
   ]
  },
  {
   "cell_type": "markdown",
   "metadata": {},
   "source": [
    "We can get the quaternion representation of these matrices"
   ]
  },
  {
   "cell_type": "code",
   "execution_count": null,
   "metadata": {},
   "outputs": [],
   "source": [
    "[Rotation.from_matrix(i.R) for i in xmap.phases[1].space_group.symop_list[:2]]"
   ]
  },
  {
   "cell_type": "markdown",
   "metadata": {},
   "source": [
    "## 2.2 Indexing"
   ]
  },
  {
   "cell_type": "markdown",
   "metadata": {},
   "source": [
    "The phase list can be indexed by phase ID or name"
   ]
  },
  {
   "cell_type": "code",
   "execution_count": null,
   "metadata": {},
   "outputs": [],
   "source": [
    "xmap.phases[1]"
   ]
  },
  {
   "cell_type": "code",
   "execution_count": null,
   "metadata": {},
   "outputs": [],
   "source": [
    "xmap.phases[\"austenite\"]"
   ]
  },
  {
   "cell_type": "code",
   "execution_count": null,
   "metadata": {},
   "outputs": [],
   "source": [
    "xmap.phases[1:]"
   ]
  },
  {
   "cell_type": "code",
   "execution_count": null,
   "metadata": {},
   "outputs": [],
   "source": [
    "xmap.phases[\"austenite\", \"ferrite\"]"
   ]
  },
  {
   "cell_type": "markdown",
   "metadata": {},
   "source": [
    "When asking for a single phase, either by an integer or a single string, a\n",
    "`Phase` object was returned. In the other cases, a `PhaseList` object was\n",
    "returned"
   ]
  },
  {
   "cell_type": "code",
   "execution_count": null,
   "metadata": {
    "tags": []
   },
   "outputs": [],
   "source": [
    "print(type(xmap.phases[1]), type(xmap.phases[1:]))"
   ]
  },
  {
   "cell_type": "markdown",
   "metadata": {},
   "source": [
    "## 2.3 Access and set properties"
   ]
  },
  {
   "cell_type": "markdown",
   "metadata": {},
   "source": [
    "The phase name, space group, point group, proper point group, color and\n",
    "structure can be accessed for the full phase list or a single phase"
   ]
  },
  {
   "cell_type": "code",
   "execution_count": null,
   "metadata": {
    "tags": []
   },
   "outputs": [],
   "source": [
    "print(xmap.phases.names)\n",
    "print([i.short_name for i in xmap.phases.space_groups])\n",
    "print([i.name for i in xmap.phases.point_groups])\n",
    "print([i.proper_subgroup.name for i in xmap.phases.point_groups])\n",
    "print(xmap.phases.colors)\n",
    "print(xmap.phases.structures)"
   ]
  },
  {
   "cell_type": "markdown",
   "metadata": {},
   "source": [
    "Note that the structures' representations are empty lists since no atoms have been added to them yet."
   ]
  },
  {
   "cell_type": "code",
   "execution_count": null,
   "metadata": {
    "tags": []
   },
   "outputs": [],
   "source": [
    "xmap.phases[\"austenite\"]\n",
    "print(xmap.phases[\"austenite\"].name)\n",
    "print(xmap.phases[\"austenite\"].space_group.short_name)\n",
    "print(xmap.phases[\"austenite\"].point_group.name)\n",
    "print(xmap.phases[\"austenite\"].point_group.proper_subgroup.name)\n",
    "print(xmap.phases[\"austenite\"].color)\n",
    "print(xmap.phases[\"austenite\"].structure)"
   ]
  },
  {
   "cell_type": "markdown",
   "metadata": {},
   "source": [
    "These attributes (not the phase ID) can be set *per phase*"
   ]
  },
  {
   "cell_type": "code",
   "execution_count": null,
   "metadata": {
    "tags": []
   },
   "outputs": [],
   "source": [
    "xmap.phases[\"austenite\"].name = \"Austenite\"\n",
    "\n",
    "xmap.phases[\"Austenite\"].structure = Structure(\n",
    "    lattice=Lattice(0.36, 0.36, 0.36, 90, 90, 90)\n",
    ")\n",
    "print(xmap.phases[\"Austenite\"].structure)\n",
    "\n",
    "xmap.phases[\"Austenite\"].color = \"lime\"  # Sets RGB tuple (0, 1, 0)\n",
    "print(xmap.phases[\"Austenite\"].color_rgb)\n",
    "\n",
    "xmap.phases"
   ]
  },
  {
   "cell_type": "markdown",
   "metadata": {},
   "source": [
    "Valid color strings can be found here: https://matplotlib.org/3.1.0/tutorials/colors/colors.html\n",
    "\n",
    "## 2.4 Point groups and adding/removing a phase to/from the list\n",
    "\n",
    "Valid point group names to use when setting the point group symmetry are"
   ]
  },
  {
   "cell_type": "code",
   "execution_count": null,
   "metadata": {},
   "outputs": [],
   "source": [
    "from orix.quaternion.symmetry import _groups\n",
    "\n",
    "[point_group.name for point_group in _groups]"
   ]
  },
  {
   "cell_type": "code",
   "execution_count": null,
   "metadata": {},
   "outputs": [],
   "source": [
    "# NBVAL_IGNORE_OUTPUT\n",
    "xmap.phases[\"Austenite\"].point_group = \"-43m\"\n",
    "\n",
    "xmap.phases"
   ]
  },
  {
   "cell_type": "markdown",
   "metadata": {},
   "source": [
    "Note that the `space_group` was set to `None` since space group Fm-3m is not a\n",
    "subgroup of -43m.\n",
    "\n",
    "Let's revert to the correct space group (and the name, for convenience)"
   ]
  },
  {
   "cell_type": "code",
   "execution_count": null,
   "metadata": {},
   "outputs": [],
   "source": [
    "xmap.phases[\"Austenite\"].name = \"austenite\"\n",
    "xmap.phases[\"austenite\"].space_group = 225\n",
    "\n",
    "xmap.phases"
   ]
  },
  {
   "cell_type": "markdown",
   "metadata": {},
   "source": [
    "We can add a phase by giving its name and point group symmetry"
   ]
  },
  {
   "cell_type": "code",
   "execution_count": null,
   "metadata": {},
   "outputs": [],
   "source": [
    "xmap.phases.add(Phase(\"sigma\", point_group=\"4/mmm\"))\n",
    "\n",
    "xmap.phases"
   ]
  },
  {
   "cell_type": "markdown",
   "metadata": {},
   "source": [
    "When adding a phase to the phase list like this, the phases' structure contains no atoms and the default lattice parameters are used"
   ]
  },
  {
   "cell_type": "code",
   "execution_count": null,
   "metadata": {},
   "outputs": [],
   "source": [
    "xmap.phases[\"sigma\"].structure.lattice.abcABG()"
   ]
  },
  {
   "cell_type": "markdown",
   "metadata": {},
   "source": [
    "So let's set this"
   ]
  },
  {
   "cell_type": "code",
   "execution_count": null,
   "metadata": {
    "tags": []
   },
   "outputs": [],
   "source": [
    "xmap.phases[\"sigma\"].structure.lattice = Lattice(0.880, 0.880, 0.880, 90, 90, 90)\n",
    "print(xmap.phases[\"sigma\"].structure.lattice)"
   ]
  },
  {
   "cell_type": "markdown",
   "metadata": {},
   "source": [
    "If some data points are considered as not indexed, a \"not_indexed\" phase can be\n",
    "added to the phase list to keep track of these points"
   ]
  },
  {
   "cell_type": "code",
   "execution_count": null,
   "metadata": {},
   "outputs": [],
   "source": [
    "xmap.phases.add_not_indexed()\n",
    "\n",
    "xmap.phases"
   ]
  },
  {
   "cell_type": "markdown",
   "metadata": {},
   "source": [
    "No points in this data set are considered not indexed. A phase list with only\n",
    "the phases in the data is stored in the `phases_in_data` attribute"
   ]
  },
  {
   "cell_type": "code",
   "execution_count": null,
   "metadata": {},
   "outputs": [],
   "source": [
    "xmap.phases_in_data"
   ]
  },
  {
   "cell_type": "markdown",
   "metadata": {},
   "source": [
    "We can of course remove a phase from the phase list, either by its name or phase ID"
   ]
  },
  {
   "cell_type": "code",
   "execution_count": null,
   "metadata": {},
   "outputs": [],
   "source": [
    "del xmap.phases[\"sigma\"]\n",
    "del xmap.phases[-1]\n",
    "\n",
    "xmap.phases"
   ]
  },
  {
   "cell_type": "markdown",
   "metadata": {},
   "source": [
    "## 2.5 Creating a phase list"
   ]
  },
  {
   "cell_type": "markdown",
   "metadata": {},
   "source": [
    "We can create a phase list by calling `PhaseList.__init__()`"
   ]
  },
  {
   "cell_type": "code",
   "execution_count": null,
   "metadata": {},
   "outputs": [],
   "source": [
    "PhaseList(\n",
    "    names=['al', 'cu'],\n",
    "    space_groups=[225, 225],\n",
    "    colors=['lime', 'xkcd:violet'],\n",
    "    ids=[0, 1],\n",
    "    structures=[\n",
    "        Structure(\n",
    "            atoms=[Atom(\"al\", [0] * 3)],\n",
    "            lattice=Lattice(0.405, 0.405, 0.405, 90, 90, 90)\n",
    "        ),\n",
    "        Structure(\n",
    "            atoms=[Atom(\"cu\", [0] * 3)],\n",
    "            lattice=Lattice(0.361, 0.361, 0.361, 90, 90, 90)\n",
    "        )\n",
    "    ]\n",
    ")"
   ]
  },
  {
   "cell_type": "markdown",
   "metadata": {},
   "source": [
    "or by creating `Phase` objects and passing these to the first argument in\n",
    "`PhaseList.__init__()` as a list (or single `Phase` objects)"
   ]
  },
  {
   "cell_type": "code",
   "execution_count": null,
   "metadata": {},
   "outputs": [],
   "source": [
    "al = Phase(name='al', space_group=225, color=\"C0\")\n",
    "cu = Phase(\n",
    "    color=\"C1\",\n",
    "    structure=Structure(\n",
    "        title=\"cu\",\n",
    "        lattice=Lattice(0.361, 0.361, 0.361, 90, 90, 90)\n",
    "    )\n",
    ")\n",
    "\n",
    "PhaseList([al, cu])"
   ]
  },
  {
   "cell_type": "markdown",
   "metadata": {},
   "source": [
    "Note that the Cu phase name was retrieved from the `Structure` object.\n",
    "\n",
    "## 2.6 Copying\n",
    "\n",
    "If we want a shallow copy of the phase list"
   ]
  },
  {
   "cell_type": "code",
   "execution_count": null,
   "metadata": {},
   "outputs": [],
   "source": [
    "pl = xmap.phases\n",
    "pl[\"ferrite\"].color = \"red\"\n",
    "\n",
    "xmap.phases"
   ]
  },
  {
   "cell_type": "markdown",
   "metadata": {},
   "source": [
    "If we want a deep copy of the phase list"
   ]
  },
  {
   "cell_type": "code",
   "execution_count": null,
   "metadata": {
    "tags": []
   },
   "outputs": [],
   "source": [
    "pl = xmap.phases.deepcopy()\n",
    "pl.add(Phase(\"chi\", point_group=\"-43m\"))\n",
    "print(pl, \"\\n\")\n",
    "\n",
    "print(xmap.phases)"
   ]
  },
  {
   "cell_type": "markdown",
   "metadata": {},
   "source": [
    "# <a id='inspect-data'></a> 3. Inspect orientation data\n",
    "\n",
    "Orientations are stored as rotations in a `Rotation` object"
   ]
  },
  {
   "cell_type": "code",
   "execution_count": null,
   "metadata": {},
   "outputs": [],
   "source": [
    "xmap.rotations"
   ]
  },
  {
   "cell_type": "markdown",
   "metadata": {},
   "source": [
    "Orientations *per phase* can be obtained by applying the phase point group\n",
    "symmetry"
   ]
  },
  {
   "cell_type": "code",
   "execution_count": null,
   "metadata": {},
   "outputs": [],
   "source": [
    "o_austenite = xmap[\"austenite\"].orientations\n",
    "\n",
    "o_austenite"
   ]
  },
  {
   "cell_type": "markdown",
   "metadata": {},
   "source": [
    "The above is equivalent to"
   ]
  },
  {
   "cell_type": "code",
   "execution_count": null,
   "metadata": {},
   "outputs": [],
   "source": [
    "Orientation(xmap[\"austenite\"].rotations).set_symmetry(\n",
    "    xmap[\"austenite\"].phases[1].point_group\n",
    ")"
   ]
  },
  {
   "cell_type": "markdown",
   "metadata": {},
   "source": [
    "Orientation angles and axes are readily available"
   ]
  },
  {
   "cell_type": "code",
   "execution_count": null,
   "metadata": {},
   "outputs": [],
   "source": [
    "o_austenite.angle"
   ]
  },
  {
   "cell_type": "code",
   "execution_count": null,
   "metadata": {},
   "outputs": [],
   "source": [
    "# Obtain as a numpy.ndarray\n",
    "o_austenite.angle.data"
   ]
  },
  {
   "cell_type": "code",
   "execution_count": null,
   "metadata": {},
   "outputs": [],
   "source": [
    "o_austenite.axis.data"
   ]
  },
  {
   "cell_type": "markdown",
   "metadata": {},
   "source": [
    "# <a id='inspect-properties'></a> 4. Inspect, add and delete map properties\n",
    "\n",
    "Map properties are stored in the `CrystalMap.prop` attribute dictionary"
   ]
  },
  {
   "cell_type": "code",
   "execution_count": null,
   "metadata": {},
   "outputs": [],
   "source": [
    "xmap.prop"
   ]
  },
  {
   "cell_type": "markdown",
   "metadata": {},
   "source": [
    "All properties in this dictionary are also available directly from the `CrystalMap` as attributes"
   ]
  },
  {
   "cell_type": "code",
   "execution_count": null,
   "metadata": {},
   "outputs": [],
   "source": [
    "xmap.iq"
   ]
  },
  {
   "cell_type": "code",
   "execution_count": null,
   "metadata": {},
   "outputs": [],
   "source": [
    "xmap.dp"
   ]
  },
  {
   "cell_type": "markdown",
   "metadata": {},
   "source": [
    "We can add a map property by specifying its name and an initial value in each map point"
   ]
  },
  {
   "cell_type": "code",
   "execution_count": null,
   "metadata": {},
   "outputs": [],
   "source": [
    "xmap.prop[\"grain_boundary\"] = 0\n",
    "\n",
    "xmap.grain_boundary"
   ]
  },
  {
   "cell_type": "code",
   "execution_count": null,
   "metadata": {},
   "outputs": [],
   "source": [
    "xmap.prop[\"grain_boundary2\"] = np.arange(xmap.size, dtype=int)\n",
    "\n",
    "xmap.grain_boundary2"
   ]
  },
  {
   "cell_type": "markdown",
   "metadata": {},
   "source": [
    "We can also delete a property from the `prop` dictionary"
   ]
  },
  {
   "cell_type": "code",
   "execution_count": null,
   "metadata": {},
   "outputs": [],
   "source": [
    "del xmap.prop[\"grain_boundary2\"]\n",
    "\n",
    "xmap.prop"
   ]
  },
  {
   "cell_type": "markdown",
   "metadata": {},
   "source": [
    "# <a id='select-data'></a> 5. Select and manipulate data based upon criteria\n",
    "\n",
    "We can select data in a crystal map in three ways:\n",
    "1. by phase name or \"indexed\"/\"not_indexed\"\n",
    "2. by a slice\n",
    "3. by a boolean array\n",
    "\n",
    "Getting all data belonging to one phase"
   ]
  },
  {
   "cell_type": "code",
   "execution_count": null,
   "metadata": {},
   "outputs": [],
   "source": [
    "xmap[\"austenite\"]"
   ]
  },
  {
   "cell_type": "markdown",
   "metadata": {},
   "source": [
    "or two phases"
   ]
  },
  {
   "cell_type": "code",
   "execution_count": null,
   "metadata": {},
   "outputs": [],
   "source": [
    "xmap[\"austenite\", \"ferrite\"]"
   ]
  },
  {
   "cell_type": "markdown",
   "metadata": {},
   "source": [
    "or all indexed points"
   ]
  },
  {
   "cell_type": "code",
   "execution_count": null,
   "metadata": {},
   "outputs": [],
   "source": [
    "xmap[\"indexed\"]"
   ]
  },
  {
   "cell_type": "markdown",
   "metadata": {},
   "source": [
    "or all non-indexed points"
   ]
  },
  {
   "cell_type": "code",
   "execution_count": null,
   "metadata": {},
   "outputs": [],
   "source": [
    "xmap[\"not_indexed\"]"
   ]
  },
  {
   "cell_type": "markdown",
   "metadata": {},
   "source": [
    "When slicing a crystal map, it is important to know the data size and shape"
   ]
  },
  {
   "cell_type": "code",
   "execution_count": null,
   "metadata": {},
   "outputs": [],
   "source": [
    "xmap.size"
   ]
  },
  {
   "cell_type": "code",
   "execution_count": null,
   "metadata": {},
   "outputs": [],
   "source": [
    "xmap.shape"
   ]
  },
  {
   "cell_type": "markdown",
   "metadata": {},
   "source": [
    "So, to get the data within a rectangle"
   ]
  },
  {
   "cell_type": "code",
   "execution_count": null,
   "metadata": {},
   "outputs": [],
   "source": [
    "xmap[20:50, 40:90]"
   ]
  },
  {
   "cell_type": "markdown",
   "metadata": {},
   "source": [
    "The most powerful way to select data is by requiring a certain criteria"
   ]
  },
  {
   "cell_type": "code",
   "execution_count": null,
   "metadata": {
    "tags": []
   },
   "outputs": [],
   "source": [
    "dp_mean = xmap.dp.mean()\n",
    "print(dp_mean)\n",
    "\n",
    "xmap_high_dp = xmap[xmap.dp > dp_mean]\n",
    "print(xmap_high_dp.dp.min())"
   ]
  },
  {
   "cell_type": "markdown",
   "metadata": {},
   "source": [
    "Note that when selecting a subset of the data, a shallow copy (view) of the\n",
    "crystal map is obtained. This means that whatever changes made to `xmap_high_dp`\n",
    "also change `xmap`. When we want a deep copy, we use the `CrystalMap.deepcopy()`\n",
    "method"
   ]
  },
  {
   "cell_type": "code",
   "execution_count": null,
   "metadata": {},
   "outputs": [],
   "source": [
    "xmap_nobody_owns_me = xmap[xmap.dp > dp_mean].deepcopy()"
   ]
  },
  {
   "cell_type": "markdown",
   "metadata": {},
   "source": [
    "We can chain the criteria"
   ]
  },
  {
   "cell_type": "code",
   "execution_count": null,
   "metadata": {},
   "outputs": [],
   "source": [
    "xmap[(xmap.dp > 0.81) & (xmap.phase_id == 1)]"
   ]
  },
  {
   "cell_type": "markdown",
   "metadata": {},
   "source": [
    "# <a id='plot-maps'></a> 6. Plot maps\n",
    "\n",
    "All map plotting is done via a `matplotlib` \"projection\" named \"plot_map\". To plot a phase map"
   ]
  },
  {
   "cell_type": "code",
   "execution_count": null,
   "metadata": {},
   "outputs": [],
   "source": [
    "fig, ax = plt.subplots(subplot_kw=dict(projection=\"plot_map\"))\n",
    "im = ax.plot_map(xmap)"
   ]
  },
  {
   "cell_type": "markdown",
   "metadata": {},
   "source": [
    "Hover over figure points to display the (x,y) position and orientations in that point!\n",
    "\n",
    "Note that `plot_map()` wraps `matplotlib.axes.Axes.imshow`. All key word arguments in `plot_map()` are passed to `imshow()`, so be sure to check [its documentation](https://matplotlib.org/api/_as_gen/matplotlib.axes.Axes.imshow.html?highlight=imshow#matplotlib.axes.Axes.imshow) out for any additional arguments.\n",
    "\n",
    "We can add any overlay, from any property with a value in each map point, to the map"
   ]
  },
  {
   "cell_type": "code",
   "execution_count": null,
   "metadata": {},
   "outputs": [],
   "source": [
    "ax.add_overlay(xmap, xmap.dp)"
   ]
  },
  {
   "cell_type": "markdown",
   "metadata": {},
   "source": [
    "To save our phase map with the scalebar and legend, but without white padding"
   ]
  },
  {
   "cell_type": "code",
   "execution_count": null,
   "metadata": {},
   "outputs": [],
   "source": [
    "ax.remove_padding()\n",
    "fig.savefig(\n",
    "    datadir + 'phase_map.png',\n",
    "    bbox_inches=\"tight\",\n",
    "    pad_inches=0,\n",
    ")"
   ]
  },
  {
   "cell_type": "markdown",
   "metadata": {},
   "source": [
    "To save phase map without scalebar, legend and white padding, and one image pixel per map point"
   ]
  },
  {
   "cell_type": "code",
   "execution_count": null,
   "metadata": {},
   "outputs": [],
   "source": [
    "plt.imsave(\n",
    "    datadir + 'phase_no_fluff.png',\n",
    "    arr=im.get_array()  # 2D NumPy array, possibly with an RGB tuple in each element\n",
    ")"
   ]
  },
  {
   "cell_type": "markdown",
   "metadata": {},
   "source": [
    "We can plot any property with a value in each map point"
   ]
  },
  {
   "cell_type": "code",
   "execution_count": null,
   "metadata": {},
   "outputs": [],
   "source": [
    "fig, ax = plt.subplots(subplot_kw=dict(projection=\"plot_map\"))\n",
    "im = ax.plot_map(xmap, xmap.dp, cmap=\"inferno\")"
   ]
  },
  {
   "cell_type": "markdown",
   "metadata": {},
   "source": [
    "And change the colormap later if we want to"
   ]
  },
  {
   "cell_type": "code",
   "execution_count": null,
   "metadata": {},
   "outputs": [],
   "source": [
    "im.set_cmap(\"viridis\")"
   ]
  },
  {
   "cell_type": "markdown",
   "metadata": {},
   "source": [
    "And add a colorbar if we want"
   ]
  },
  {
   "cell_type": "code",
   "execution_count": null,
   "metadata": {},
   "outputs": [],
   "source": [
    "cbar = ax.add_colorbar(label=\"Dottproduct\")"
   ]
  },
  {
   "cell_type": "markdown",
   "metadata": {},
   "source": [
    "Which we can update if we mispelled the label or want other adjustements"
   ]
  },
  {
   "cell_type": "code",
   "execution_count": null,
   "metadata": {},
   "outputs": [],
   "source": [
    "cbar.ax.set_ylabel(\"Dot product\", rotation=270);"
   ]
  },
  {
   "cell_type": "markdown",
   "metadata": {},
   "source": [
    "We can also plot orientation related values, like axis and angles etc., and restrict the color bar maximum"
   ]
  },
  {
   "cell_type": "code",
   "execution_count": null,
   "metadata": {},
   "outputs": [],
   "source": [
    "# Get rotation angles in degrees\n",
    "angles = xmap.rotations.angle.data * 180 / np.pi\n",
    "\n",
    "fig, ax = plt.subplots(subplot_kw=dict(projection=\"plot_map\"))\n",
    "im = ax.plot_map(xmap, angles, vmax=angles.max() - 10)\n",
    "\n",
    "ax.add_overlay(xmap, xmap.iq)\n",
    "\n",
    "ax.add_colorbar(label=\"Rotation angle\");"
   ]
  },
  {
   "cell_type": "markdown",
   "metadata": {},
   "source": [
    "To plot only one phase, while passing custom\n",
    "* scalebar properties (https://matplotlib.org/mpl_toolkits/axes_grid/api/anchored_artists_api.html#mpl_toolkits.axes_grid1.anchored_artists.AnchoredSizeBar)\n",
    "* legend properties (https://matplotlib.org/3.3.0/api/_as_gen/matplotlib.pyplot.legend.html)"
   ]
  },
  {
   "cell_type": "code",
   "execution_count": null,
   "metadata": {},
   "outputs": [],
   "source": [
    "fig, ax = plt.subplots(subplot_kw=dict(projection=\"plot_map\"))\n",
    "im = ax.plot_map(\n",
    "    xmap[\"austenite\"],\n",
    "    scalebar=True,  # False for removed\n",
    "    scalebar_properties={\n",
    "        \"loc\": 4,  # 1: upper right, 2: upper left, etc. counter-clockwise\n",
    "        \"frameon\": False,\n",
    "        \"sep\": 6,  # Vertical spacing between bar and text\n",
    "        \"size_vertical\": 0.2,  # Bar height\n",
    "    },\n",
    "    legend_properties={\n",
    "        \"framealpha\": 1,  # 0: fully transparent, 1: opaque\n",
    "        \"handlelength\": 1.5,  # Colored square width\n",
    "        \"handletextpad\": 0.1,  # Horizontal space between square and text\n",
    "        \"borderpad\": 0.1,\n",
    "    },\n",
    ")"
   ]
  },
  {
   "cell_type": "markdown",
   "metadata": {},
   "source": [
    "Plot only a rectangle of the map"
   ]
  },
  {
   "cell_type": "code",
   "execution_count": null,
   "metadata": {},
   "outputs": [],
   "source": [
    "xmap2 = xmap[20:50, 40:90]\n",
    "\n",
    "fig, ax = plt.subplots(subplot_kw=dict(projection=\"plot_map\"))\n",
    "ax.plot_map(xmap2)\n",
    "ax.add_overlay(xmap2, xmap2.dp)"
   ]
  },
  {
   "cell_type": "markdown",
   "metadata": {},
   "source": [
    "Plot only parts of a map based on chained conditionals, like belonging to one phase or having a property value above a threshold"
   ]
  },
  {
   "cell_type": "code",
   "execution_count": null,
   "metadata": {},
   "outputs": [],
   "source": [
    "# Conditional slicing\n",
    "xmap2 = xmap[xmap.dp > 0.81]\n",
    "\n",
    "fig, ax = plt.subplots(subplot_kw=dict(projection=\"plot_map\"))\n",
    "ax.plot_map(xmap2, xmap2.iq, cmap=\"gray\")\n",
    "ax.add_colorbar(\"Image quality\")\n",
    "\n",
    "# Chained conditional slicing\n",
    "xmap2 = xmap[(xmap.dp > 0.81) & (xmap.phase_id == 1)]\n",
    "\n",
    "fig, ax = plt.subplots(subplot_kw=dict(projection=\"plot_map\"))\n",
    "ax.plot_map(xmap2, xmap2.dp, cmap=\"cividis\")\n",
    "ax.add_colorbar(\"Dot product\");"
   ]
  },
  {
   "cell_type": "markdown",
   "metadata": {},
   "source": [
    "Plot histogram of a property per phase"
   ]
  },
  {
   "cell_type": "code",
   "execution_count": null,
   "metadata": {},
   "outputs": [],
   "source": [
    "# Property of interest\n",
    "this_prop = 'dp'\n",
    "\n",
    "# Plot phase map again to see color changes\n",
    "fig, ax = plt.subplots(subplot_kw=dict(projection=\"plot_map\"))\n",
    "ax.plot_map(xmap)\n",
    "\n",
    "# Add overlay, passing str (can also pass numpy.ndarray)\n",
    "ax.add_overlay(xmap, this_prop)\n",
    "\n",
    "# Remove figure padding\n",
    "ax.remove_padding()\n",
    "\n",
    "# Declare lists for plotting\n",
    "data = []\n",
    "labels = []\n",
    "colors = []\n",
    "\n",
    "# Get property values, name and color per phase\n",
    "for _, p in xmap.phases_in_data:\n",
    "    labels.append(p.name)\n",
    "    colors.append(p.color)\n",
    "\n",
    "    # Accessing the property dictionary directly\n",
    "    data.append(xmap[p.name].prop[this_prop])\n",
    "    # or indirectly\n",
    "    #data.append(xmap[p.name].dp)\n",
    "\n",
    "# Nice bar plot with property histogram per phase\n",
    "fig, ax = plt.subplots()\n",
    "ax.hist(\n",
    "    data,\n",
    "    bins=20,\n",
    "    histtype='bar',\n",
    "    density=True,\n",
    "    label=labels,\n",
    "    color=colors\n",
    ")\n",
    "ax.set_xlabel(this_prop)\n",
    "ax.set_ylabel(\"Frequency\")\n",
    "ax.legend();"
   ]
  },
  {
   "cell_type": "markdown",
   "metadata": {},
   "source": [
    "Add a new property to the map, modify it, and plot it"
   ]
  },
  {
   "cell_type": "code",
   "execution_count": null,
   "metadata": {},
   "outputs": [],
   "source": [
    "xmap.prop[\"grain_boundary\"] = 0"
   ]
  },
  {
   "cell_type": "code",
   "execution_count": null,
   "metadata": {},
   "outputs": [],
   "source": [
    "xmap[xmap.dp < 0.81].grain_boundary = 1"
   ]
  },
  {
   "cell_type": "code",
   "execution_count": null,
   "metadata": {},
   "outputs": [],
   "source": [
    "fig, ax = plt.subplots(subplot_kw=dict(projection=\"plot_map\"))\n",
    "im = ax.plot_map(xmap, xmap.grain_boundary, cmap=\"gray\")"
   ]
  },
  {
   "cell_type": "markdown",
   "metadata": {},
   "source": [
    "### Directory clean up (developer stuff)"
   ]
  },
  {
   "cell_type": "code",
   "execution_count": null,
   "metadata": {},
   "outputs": [],
   "source": [
    "import os\n",
    "\n",
    "\n",
    "files_to_remove = [\n",
    "    \"phase_map.png\",\n",
    "    \"phase_no_fluff.png\",\n",
    "    \"sdss_ferrite_austenite2.h5\",\n",
    "    fname_ang1,\n",
    "    fname_ang2,\n",
    "]\n",
    "for file in files_to_remove:\n",
    "    try:\n",
    "        os.remove(datadir + file)\n",
    "    except FileNotFoundError:\n",
    "        pass\n",
    "\n",
    "#plt.close(\"all\")"
   ]
  }
 ],
 "metadata": {
  "kernelspec": {
   "display_name": "Python 3.8.6 64-bit ('orix-dev': conda)",
   "language": "python",
   "name": "python38664bitorixdevcondaa949028c7db948fdad3eaef025626850"
  },
  "language_info": {
   "codemirror_mode": {
    "name": "ipython",
    "version": 3
   },
   "file_extension": ".py",
   "mimetype": "text/x-python",
   "name": "python",
   "nbconvert_exporter": "python",
   "pygments_lexer": "ipython3",
   "version": "3.8.6"
  }
 },
 "nbformat": 4,
 "nbformat_minor": 4
}
